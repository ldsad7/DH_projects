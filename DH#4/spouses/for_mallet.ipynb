{
 "cells": [
  {
   "cell_type": "code",
   "execution_count": null,
   "metadata": {},
   "outputs": [],
   "source": [
    "texts = []\n",
    "for i, elem in enumerate(df['about']):\n",
    "    if type(elem) == float:\n",
    "        elem = ''\n",
    "    for sign in '.,/<>;:\"|]~!@#$%^&\\*()-=_+?}{[…“”0123456789\\'—':\n",
    "        elem = elem.lower()\n",
    "        elem = elem.replace(sign, ' ')\n",
    "    texts.append(elem.split())\n",
    "texts"
   ]
  },
  {
   "cell_type": "code",
   "execution_count": null,
   "metadata": {},
   "outputs": [],
   "source": [
    "path_to_mallet_binary = os.path.join(r'C:\\Users\\Эдуард\\Desktop\\mallet\\bin\\mallet')\n",
    "dictionary = Dictionary(texts)\n",
    "corpus = [dictionary.doc2bow(text) for text in texts]\n",
    "model = LdaMallet(path_to_mallet_binary, corpus=corpus, num_topics=50, id2word=dictionary)"
   ]
  },
  {
   "cell_type": "code",
   "execution_count": null,
   "metadata": {},
   "outputs": [],
   "source": [
    "themes = []"
   ]
  },
  {
   "cell_type": "code",
   "execution_count": null,
   "metadata": {},
   "outputs": [],
   "source": [
    "tmp_ = model[corpus]"
   ]
  },
  {
   "cell_type": "code",
   "execution_count": null,
   "metadata": {},
   "outputs": [],
   "source": [
    "for i in range():\n",
    "    for j in range(100):\n",
    "        if len(themes) < 101:\n",
    "            themes.append(np.array(model[corpus][i])[:, 1])\n",
    "    np.array(model[corpus][i])[:, 1]"
   ]
  },
  {
   "cell_type": "code",
   "execution_count": null,
   "metadata": {},
   "outputs": [],
   "source": [
    "np.array(model[corpus][1000])[:, 1]"
   ]
  },
  {
   "cell_type": "code",
   "execution_count": null,
   "metadata": {},
   "outputs": [],
   "source": [
    "model.show_topics(num_topics=50)"
   ]
  },
  {
   "cell_type": "code",
   "execution_count": null,
   "metadata": {},
   "outputs": [],
   "source": [
    "path_to_mallet_binary = 'C:\\\\Users\\\\Эдуард\\\\Desktop\\\\mallet-2.0.8\\\\bin\\\\mallet'\n",
    "path_to_mallet_binary"
   ]
  },
  {
   "cell_type": "code",
   "execution_count": null,
   "metadata": {},
   "outputs": [],
   "source": [
    "import os\n",
    "from subprocess import call\n",
    "\n",
    "mallet_path = \"C:\\\\Users\\\\Эдуард\\\\Desktop\\\\mallet-2.0.8\"\n",
    "input_path = mallet_path + \"\\\\inputdirectory\"\n",
    "\n",
    "num_topics = \"1\"\n",
    "num_iterations = \"3\"\n",
    "\n",
    "class Mallet(object):\n",
    "    def __init__(self, input_path, mallet_path):\n",
    "        self.mallet_exec = mallet_path + \"\\\\bin\\\\mallet\"\n",
    "        self.input_path = mallet_path + \"\\\\inputdirectory\"\n",
    "    \n",
    "    def import_dir(self):\n",
    "        text_path = self.input_path\n",
    "        output = \"readyforinput.mallet\"\n",
    "        call(self.mallet_exec + \" import-dir --input \" + input_path + \" --keep-sequence --output \" + output, shell=True)\n",
    "        print(self.mallet_exec + \" import-dir --input \" + input_path + \" --keep-sequence --output \" + output)\n",
    "    \n",
    "    def train_topics(self):\n",
    "        input_file = mallet_path + \"\\\\readyforinput.mallet\"\n",
    "        output_dir = mallet_path + \"\\\\topic_modelling_output\"\n",
    "        output_doc_topics = output_dir + \"\\\\output_doc_topics.txt\"\n",
    "        output_topic_keys = output_dir + \"\\\\output_topic_keys.txt\"\n",
    "        output_state = output_dir + \"\\\\output_state.gz\"\n",
    "        command = self.mallet_exec + \" train-topics --input \" + input_file + \" --num-topics \" + num_topics + \" --output-doc-topics \" + output_doc_topics + \" --output-topic-keys \" + output_topic_keys + \" --output-state \" + output_state + \" --num-iterations \" + num_iterations\n",
    "        call(command, shell=True)\n",
    "\n",
    "callmallet = Mallet(input_path, mallet_path)\n",
    "callmallet.import_dir()\n",
    "callmallet.train_topics()\n",
    "\n",
    "# how to hardcode path: os.path.abspath(\"mydir\\\\myfile.txt\")"
   ]
  },
  {
   "cell_type": "code",
   "execution_count": null,
   "metadata": {},
   "outputs": [],
   "source": []
  }
 ],
 "metadata": {
  "kernelspec": {
   "display_name": "Python 3",
   "language": "python",
   "name": "python3"
  },
  "language_info": {
   "codemirror_mode": {
    "name": "ipython",
    "version": 3
   },
   "file_extension": ".py",
   "mimetype": "text/x-python",
   "name": "python",
   "nbconvert_exporter": "python",
   "pygments_lexer": "ipython3",
   "version": "3.6.1"
  }
 },
 "nbformat": 4,
 "nbformat_minor": 2
}
